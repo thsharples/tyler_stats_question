{
 "cells": [
  {
   "cell_type": "markdown",
   "metadata": {},
   "source": [
    "Imports"
   ]
  },
  {
   "cell_type": "code",
   "execution_count": 41,
   "metadata": {},
   "outputs": [],
   "source": [
    "import os\n",
    "import pandas as pd\n",
    "from datetime import datetime"
   ]
  },
  {
   "cell_type": "code",
   "execution_count": 82,
   "metadata": {},
   "outputs": [],
   "source": [
    "\n",
    "\n",
    "def clean_daily_data(name: str,\n",
    "                     data: pd.DataFrame,\n",
    "                     after: datetime = datetime(2016,1,1),\n",
    "                     before: datetime = datetime(2022,11,1)) -> pd.DataFrame:\n",
    "    # convert date to datetime object\n",
    "    data[\"date\"] = pd.to_datetime(data[\"date\"])\n",
    "    data = data.sort_values(by=\"date\")\n",
    "    # set the value as a float (currently str)\n",
    "    data[\"value\"] = data[\"value\"].astype(float)\n",
    "    # filter data after\n",
    "    data = data[data[\"date\"] >= after].reset_index(drop=True)\n",
    "    # filter data before\n",
    "    data = data[data[\"date\"] < before].reset_index(drop=True)\n",
    "    # truncate date to month\n",
    "    data[\"date\"] = data[\"date\"].astype(str).apply(lambda x: x[:7])\n",
    "    # get the mean by month\n",
    "    feature = data.groupby(\"date\").mean()\n",
    "    feature[\"std\"] = data.groupby(\"date\").std()[\"value\"].tolist()\n",
    "    feature.columns = [name, f\"{name}_std\"]\n",
    "    # get the percent change month to month\n",
    "    feature[f\"{name}_pct_change\"] = (feature[name]/feature[name].shift(1)) - 1\n",
    "    # this line keeps the direct time series in\n",
    "    # feature = feature[[name,f\"{name}_pct_change\", f\"{name}_std\"]]\n",
    "    feature = feature[[f\"{name}_pct_change\", f\"{name}_std\"]]\n",
    "    # reset index\n",
    "    feature.reset_index(inplace=True)\n",
    "    # set index? redundant\n",
    "    feature.set_index(\"date\", inplace=True)\n",
    "    return feature"
   ]
  },
  {
   "cell_type": "markdown",
   "metadata": {},
   "source": [
    "# Datasets\n",
    "- FFR time series\n",
    "- 30 Year Mortgage rate"
   ]
  },
  {
   "cell_type": "code",
   "execution_count": 83,
   "metadata": {},
   "outputs": [],
   "source": [
    "data_dir = \"../data/feature/raw/\""
   ]
  },
  {
   "cell_type": "code",
   "execution_count": 88,
   "metadata": {},
   "outputs": [],
   "source": [
    "\n",
    "def build_feature_data(path: str) -> dict[str, pd.DataFrame]:\n",
    "    base = dict()\n",
    "    for file in os.listdir(data_dir):\n",
    "        name, ext = file.split(\".\")[-2], file.split(\".\")[-1]\n",
    "        if ext == \"csv\":\n",
    "            base[name] = pd.read_csv(f\"{path}/{file}\")\n",
    "    datasets = list()\n",
    "    for key, value in base.items():\n",
    "        try:\n",
    "            datasets.append(clean_daily_data(key, value))\n",
    "        except:\n",
    "            pass\n",
    "    output = pd.concat(datasets, join=\"outer\", axis=1)\n",
    "    output.reset_index(inplace=True)\n",
    "    output[\"date\"] = pd.to_datetime(output[\"date\"])\n",
    "    output = output.sort_values(by=\"date\").reset_index(drop=True)\n",
    "    output = output[2:].dropna(axis=1).reset_index(drop=True)\n",
    "    return output"
   ]
  },
  {
   "cell_type": "code",
   "execution_count": 89,
   "metadata": {},
   "outputs": [],
   "source": [
    "features = build_feature_data(data_dir)\n"
   ]
  },
  {
   "cell_type": "code",
   "execution_count": 91,
   "metadata": {},
   "outputs": [],
   "source": [
    "features.to_csv(\"../data/feature/all.csv\", index=False)"
   ]
  },
  {
   "cell_type": "code",
   "execution_count": null,
   "metadata": {},
   "outputs": [],
   "source": []
  }
 ],
 "metadata": {
  "kernelspec": {
   "display_name": "Python 3.9.12 ('base')",
   "language": "python",
   "name": "python3"
  },
  "language_info": {
   "codemirror_mode": {
    "name": "ipython",
    "version": 3
   },
   "file_extension": ".py",
   "mimetype": "text/x-python",
   "name": "python",
   "nbconvert_exporter": "python",
   "pygments_lexer": "ipython3",
   "version": "3.9.12"
  },
  "orig_nbformat": 4,
  "vscode": {
   "interpreter": {
    "hash": "3d597f4c481aa0f25dceb95d2a0067e73c0966dcbd003d741d821a7208527ecf"
   }
  }
 },
 "nbformat": 4,
 "nbformat_minor": 2
}
